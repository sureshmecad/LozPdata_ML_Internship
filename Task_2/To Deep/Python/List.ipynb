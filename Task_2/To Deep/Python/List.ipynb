{
 "cells": [
  {
   "cell_type": "markdown",
   "metadata": {},
   "source": [
    "# List : Example"
   ]
  },
  {
   "cell_type": "markdown",
   "metadata": {},
   "source": [
    "### Methods that are available with list object \n",
    "\n",
    "### Are accessed as list.method( )\n",
    "\n",
    "- append() - Add an element to the end of the list\n",
    "\n",
    "\n",
    "- extend() - Add all elements of a list to the another list\n",
    "\n",
    "\n",
    "- insert() - Insert an item at the defined index\n",
    "\n",
    "\n",
    "- remove() - Removes an item from the list\n",
    "\n",
    "\n",
    "- pop() - Removes and returns an element at the given index\n",
    "\n",
    "\n",
    "- clear() - Removes all items from the list\n",
    "\n",
    "\n",
    "- index() - Returns the index of the first matched item\n",
    "\n",
    "\n",
    "- count() - Returns the count of number of items passed as an argument\n",
    "\n",
    "\n",
    "- sort() - Sort items in a list in ascending order\n",
    "\n",
    "\n",
    "- reverse() - Reverse the order of items in the list\n",
    "\n",
    "\n",
    "- copy() - Returns a shallow copy of the list"
   ]
  },
  {
   "cell_type": "code",
   "execution_count": 2,
   "metadata": {},
   "outputs": [
    {
     "data": {
      "text/plain": [
       "[25, 12, 36, 95, 14]"
      ]
     },
     "execution_count": 2,
     "metadata": {},
     "output_type": "execute_result"
    }
   ],
   "source": [
    "nums = [25,12,36,95,14]\n",
    "nums"
   ]
  },
  {
   "cell_type": "markdown",
   "metadata": {},
   "source": [
    "# Min"
   ]
  },
  {
   "cell_type": "code",
   "execution_count": 6,
   "metadata": {},
   "outputs": [
    {
     "data": {
      "text/plain": [
       "12"
      ]
     },
     "execution_count": 6,
     "metadata": {},
     "output_type": "execute_result"
    }
   ],
   "source": [
    "min(nums)"
   ]
  },
  {
   "cell_type": "markdown",
   "metadata": {},
   "source": [
    "# Max"
   ]
  },
  {
   "cell_type": "code",
   "execution_count": 7,
   "metadata": {},
   "outputs": [
    {
     "data": {
      "text/plain": [
       "95"
      ]
     },
     "execution_count": 7,
     "metadata": {},
     "output_type": "execute_result"
    }
   ],
   "source": [
    "max(nums)"
   ]
  },
  {
   "cell_type": "markdown",
   "metadata": {},
   "source": [
    "# Sum"
   ]
  },
  {
   "cell_type": "code",
   "execution_count": 8,
   "metadata": {},
   "outputs": [
    {
     "data": {
      "text/plain": [
       "182"
      ]
     },
     "execution_count": 8,
     "metadata": {},
     "output_type": "execute_result"
    }
   ],
   "source": [
    "sum(nums)"
   ]
  },
  {
   "cell_type": "markdown",
   "metadata": {},
   "source": [
    "# List : Slicing"
   ]
  },
  {
   "cell_type": "code",
   "execution_count": 31,
   "metadata": {},
   "outputs": [
    {
     "data": {
      "text/plain": [
       "['History', 'Math', 'Physics', 'CompSci']"
      ]
     },
     "execution_count": 31,
     "metadata": {},
     "output_type": "execute_result"
    }
   ],
   "source": [
    "#List\n",
    "\n",
    "courses = ['History','Math','Physics','CompSci']\n",
    "courses_2 = ['Art','Education']\n",
    "courses"
   ]
  },
  {
   "cell_type": "code",
   "execution_count": 11,
   "metadata": {},
   "outputs": [
    {
     "data": {
      "text/plain": [
       "['History', 'Math']"
      ]
     },
     "execution_count": 11,
     "metadata": {},
     "output_type": "execute_result"
    }
   ],
   "source": [
    "# Index prints 0 & 1; but not including 2\n",
    "\n",
    "courses[0:2]"
   ]
  },
  {
   "cell_type": "code",
   "execution_count": 13,
   "metadata": {},
   "outputs": [
    {
     "data": {
      "text/plain": [
       "['History', 'Math']"
      ]
     },
     "execution_count": 13,
     "metadata": {},
     "output_type": "execute_result"
    }
   ],
   "source": [
    "# Index prints 0 & 1; but not including 2\n",
    "# courses[0:2] and courses[:2] both will give same output\n",
    "\n",
    "courses[:2]"
   ]
  },
  {
   "cell_type": "code",
   "execution_count": 14,
   "metadata": {},
   "outputs": [
    {
     "data": {
      "text/plain": [
       "['Physics', 'CompSci']"
      ]
     },
     "execution_count": 14,
     "metadata": {},
     "output_type": "execute_result"
    }
   ],
   "source": [
    "# Slicing all the way to end\n",
    "\n",
    "courses[2:]"
   ]
  },
  {
   "cell_type": "markdown",
   "metadata": {},
   "source": [
    "# Replace"
   ]
  },
  {
   "cell_type": "code",
   "execution_count": 3,
   "metadata": {},
   "outputs": [
    {
     "data": {
      "text/plain": [
       "['apple', 'banana', 'cherry']"
      ]
     },
     "execution_count": 3,
     "metadata": {},
     "output_type": "execute_result"
    }
   ],
   "source": [
    "List1 = [\"apple\",\"banana\",\"cherry\"]\n",
    "List1"
   ]
  },
  {
   "cell_type": "code",
   "execution_count": 4,
   "metadata": {},
   "outputs": [
    {
     "data": {
      "text/plain": [
       "['apple', 'banana', 'orange']"
      ]
     },
     "execution_count": 4,
     "metadata": {},
     "output_type": "execute_result"
    }
   ],
   "source": [
    "# \"cherry\" replaces with \"orange\"\n",
    "\n",
    "List1[2] = \"orange\"\n",
    "List1"
   ]
  },
  {
   "cell_type": "markdown",
   "metadata": {},
   "source": [
    "# Insert"
   ]
  },
  {
   "cell_type": "code",
   "execution_count": 30,
   "metadata": {},
   "outputs": [
    {
     "data": {
      "text/plain": [
       "['Art', 'History', 'Math', 'Physics', 'CompSci', 'Art']"
      ]
     },
     "execution_count": 30,
     "metadata": {},
     "output_type": "execute_result"
    }
   ],
   "source": [
    "# First specify Location to insert & later what to insert\n",
    "\n",
    "courses.insert(0, 'Art')\n",
    "courses"
   ]
  },
  {
   "cell_type": "code",
   "execution_count": 32,
   "metadata": {},
   "outputs": [
    {
     "data": {
      "text/plain": [
       "[['Art', 'Education'], 'History', 'Math', 'Physics', 'CompSci']"
      ]
     },
     "execution_count": 32,
     "metadata": {},
     "output_type": "execute_result"
    }
   ],
   "source": [
    "courses.insert(0, courses_2)\n",
    "courses"
   ]
  },
  {
   "cell_type": "markdown",
   "metadata": {},
   "source": [
    "# Extend / Append"
   ]
  },
  {
   "cell_type": "code",
   "execution_count": 44,
   "metadata": {
    "scrolled": true
   },
   "outputs": [
    {
     "name": "stdout",
     "output_type": "stream",
     "text": [
      "\n",
      "I also have to buy rice.\n",
      "My shopping list is now ['apple', 'mango', 'carrot', 'banana', 'rice']\n"
     ]
    }
   ],
   "source": [
    "# # append to list\n",
    "# add one item to a list using append() method or \n",
    "# add several items using extend()\n",
    "\n",
    "shoplist_appe = ['apple', 'mango', 'carrot', 'banana']\n",
    "print('\\nI also have to buy rice.')\n",
    "shoplist_appe.append('rice')\n",
    "print('My shopping list is now', shoplist_appe)"
   ]
  },
  {
   "cell_type": "code",
   "execution_count": 45,
   "metadata": {},
   "outputs": [
    {
     "name": "stdout",
     "output_type": "stream",
     "text": [
      "My shopping list is now ['apple', 'mango', 'carrot', 'banana', 'rice', 'table', 'chair', 'pen']\n"
     ]
    }
   ],
   "source": [
    "shoplist_appe.extend(['table', 'chair', 'pen'])\n",
    "print('My shopping list is now', shoplist_appe)"
   ]
  },
  {
   "cell_type": "code",
   "execution_count": 41,
   "metadata": {},
   "outputs": [
    {
     "data": {
      "text/plain": [
       "['History', 'Math', 'Physics', 'CompSci']"
      ]
     },
     "execution_count": 41,
     "metadata": {},
     "output_type": "execute_result"
    }
   ],
   "source": [
    "courses_3 = ['History','Math','Physics','CompSci']\n",
    "courses_4 = ['Art','Education']\n",
    "courses_3"
   ]
  },
  {
   "cell_type": "code",
   "execution_count": 39,
   "metadata": {},
   "outputs": [
    {
     "data": {
      "text/plain": [
       "['Art', 'Education']"
      ]
     },
     "execution_count": 39,
     "metadata": {},
     "output_type": "execute_result"
    }
   ],
   "source": [
    "courses_4"
   ]
  },
  {
   "cell_type": "code",
   "execution_count": 64,
   "metadata": {},
   "outputs": [
    {
     "data": {
      "text/plain": [
       "['History',\n",
       " 'Math',\n",
       " 'Physics',\n",
       " 'CompSci',\n",
       " 'Art',\n",
       " 'Education',\n",
       " ['Art', 'Education']]"
      ]
     },
     "execution_count": 64,
     "metadata": {},
     "output_type": "execute_result"
    }
   ],
   "source": [
    "courses_3.append(courses_4)\n",
    "courses_3"
   ]
  },
  {
   "cell_type": "code",
   "execution_count": 65,
   "metadata": {},
   "outputs": [
    {
     "data": {
      "text/plain": [
       "['History',\n",
       " 'Math',\n",
       " 'Physics',\n",
       " 'CompSci',\n",
       " 'Art',\n",
       " 'Education',\n",
       " ['Art', 'Education'],\n",
       " 'Art',\n",
       " 'Education']"
      ]
     },
     "execution_count": 65,
     "metadata": {},
     "output_type": "execute_result"
    }
   ],
   "source": [
    "courses_3.extend(courses_4)\n",
    "courses_3"
   ]
  },
  {
   "cell_type": "code",
   "execution_count": 46,
   "metadata": {},
   "outputs": [
    {
     "name": "stdout",
     "output_type": "stream",
     "text": [
      "['apple', 'banana', 'carrot', 'chair', 'chair', 'mango', 'pen', 'pen', 'table', 'table']\n"
     ]
    }
   ],
   "source": [
    "print(sorted(shoplist))"
   ]
  },
  {
   "cell_type": "markdown",
   "metadata": {},
   "source": [
    "# Concatenation"
   ]
  },
  {
   "cell_type": "code",
   "execution_count": 38,
   "metadata": {},
   "outputs": [
    {
     "name": "stdout",
     "output_type": "stream",
     "text": [
      "My shopping list is now ['apple', 'mango', 'carrot', 'banana', 'a', 'b', 'c']\n"
     ]
    }
   ],
   "source": [
    "# use + operator to combine two lists. This is also called concatenation.\n",
    "\n",
    "shoplist1 = ['apple', 'mango', 'carrot', 'banana']\n",
    "shoplist2 = ['a', 'b', 'c']\n",
    "\n",
    "shoplist_conc = shoplist1 + shoplist2\n",
    "print('My shopping list is now', shoplist_conc)"
   ]
  },
  {
   "cell_type": "markdown",
   "metadata": {},
   "source": [
    "# Remove"
   ]
  },
  {
   "cell_type": "code",
   "execution_count": 68,
   "metadata": {},
   "outputs": [
    {
     "data": {
      "text/plain": [
       "['History', 'Math', 'Physics', 'CompSci']"
      ]
     },
     "execution_count": 68,
     "metadata": {},
     "output_type": "execute_result"
    }
   ],
   "source": [
    "courses_0 = ['History','Math','Physics','CompSci']\n",
    "courses_0"
   ]
  },
  {
   "cell_type": "code",
   "execution_count": 69,
   "metadata": {
    "scrolled": true
   },
   "outputs": [
    {
     "data": {
      "text/plain": [
       "['History', 'Physics', 'CompSci']"
      ]
     },
     "execution_count": 69,
     "metadata": {},
     "output_type": "execute_result"
    }
   ],
   "source": [
    "courses_0.remove('Math')\n",
    "courses_0"
   ]
  },
  {
   "cell_type": "markdown",
   "metadata": {},
   "source": [
    "# Delete (permanent deletion from the memory)"
   ]
  },
  {
   "cell_type": "code",
   "execution_count": 50,
   "metadata": {},
   "outputs": [
    {
     "name": "stdout",
     "output_type": "stream",
     "text": [
      "The first item I will buy is apple\n",
      "I bought the apple\n",
      "My shopping list is now ['mango', 'carrot', 'banana']\n"
     ]
    }
   ],
   "source": [
    "# delete a list item\n",
    "\n",
    "shoplist_del = ['apple', 'mango', 'carrot', 'banana']\n",
    "print('The first item I will buy is', shoplist_del[0])\n",
    "olditem = shoplist_del[0]\n",
    "del shoplist_del[0]\n",
    "print('I bought the', olditem)\n",
    "print('My shopping list is now', shoplist_del)"
   ]
  },
  {
   "cell_type": "markdown",
   "metadata": {},
   "source": [
    "# Pop\n",
    "# 1. It removes last element\n",
    "# 2. removes element but it does not removes from the memory"
   ]
  },
  {
   "cell_type": "code",
   "execution_count": 70,
   "metadata": {},
   "outputs": [
    {
     "data": {
      "text/plain": [
       "['History', 'Physics']"
      ]
     },
     "execution_count": 70,
     "metadata": {},
     "output_type": "execute_result"
    }
   ],
   "source": [
    "# Pop command also removes element but it does not removes from the memory\n",
    "\n",
    "courses_0.pop()\n",
    "courses_0"
   ]
  },
  {
   "cell_type": "code",
   "execution_count": 71,
   "metadata": {},
   "outputs": [
    {
     "data": {
      "text/plain": [
       "['History', 'Physics', 'CompSci']"
      ]
     },
     "execution_count": 71,
     "metadata": {},
     "output_type": "execute_result"
    }
   ],
   "source": [
    "courses_0.append('CompSci')\n",
    "courses_0"
   ]
  },
  {
   "cell_type": "code",
   "execution_count": 72,
   "metadata": {},
   "outputs": [
    {
     "data": {
      "text/plain": [
       "'CompSci'"
      ]
     },
     "execution_count": 72,
     "metadata": {},
     "output_type": "execute_result"
    }
   ],
   "source": [
    "popped = courses_0.pop()\n",
    "popped"
   ]
  },
  {
   "cell_type": "markdown",
   "metadata": {},
   "source": [
    "# Reverse"
   ]
  },
  {
   "cell_type": "code",
   "execution_count": 73,
   "metadata": {},
   "outputs": [
    {
     "data": {
      "text/plain": [
       "['History', 'Math', 'Physics', 'CompSci']"
      ]
     },
     "execution_count": 73,
     "metadata": {},
     "output_type": "execute_result"
    }
   ],
   "source": [
    "courses_11 = ['History','Math','Physics','CompSci']\n",
    "courses_11"
   ]
  },
  {
   "cell_type": "code",
   "execution_count": 75,
   "metadata": {},
   "outputs": [
    {
     "data": {
      "text/plain": [
       "['CompSci', 'Physics', 'Math', 'History']"
      ]
     },
     "execution_count": 75,
     "metadata": {},
     "output_type": "execute_result"
    }
   ],
   "source": [
    "courses_11.reverse()\n",
    "courses_11"
   ]
  },
  {
   "cell_type": "markdown",
   "metadata": {},
   "source": [
    "# Sort"
   ]
  },
  {
   "cell_type": "code",
   "execution_count": 77,
   "metadata": {},
   "outputs": [
    {
     "data": {
      "text/plain": [
       "['CompSci', 'History', 'Math', 'Physics']"
      ]
     },
     "execution_count": 77,
     "metadata": {},
     "output_type": "execute_result"
    }
   ],
   "source": [
    "# for strings arranges in alphabetical order\n",
    "# for numbers arranges in ascending order\n",
    "\n",
    "courses_11.sort()\n",
    "courses_11"
   ]
  },
  {
   "cell_type": "code",
   "execution_count": 78,
   "metadata": {},
   "outputs": [
    {
     "data": {
      "text/plain": [
       "['Physics', 'Math', 'History', 'CompSci']"
      ]
     },
     "execution_count": 78,
     "metadata": {},
     "output_type": "execute_result"
    }
   ],
   "source": [
    "# for stringes & numbers arranges in descending order\n",
    "\n",
    "courses_11.sort(reverse=True)\n",
    "courses_11"
   ]
  },
  {
   "cell_type": "code",
   "execution_count": 84,
   "metadata": {},
   "outputs": [
    {
     "data": {
      "text/plain": [
       "['CompSci', 'History', 'Math', 'Physics']"
      ]
     },
     "execution_count": 84,
     "metadata": {},
     "output_type": "execute_result"
    }
   ],
   "source": [
    "sorted(courses_11)"
   ]
  },
  {
   "cell_type": "code",
   "execution_count": 85,
   "metadata": {},
   "outputs": [
    {
     "data": {
      "text/plain": [
       "['CompSci', 'History', 'Math', 'Physics']"
      ]
     },
     "execution_count": 85,
     "metadata": {},
     "output_type": "execute_result"
    }
   ],
   "source": [
    "sorted_courses = sorted(courses_11)\n",
    "sorted_courses"
   ]
  },
  {
   "cell_type": "markdown",
   "metadata": {},
   "source": [
    "# Join"
   ]
  },
  {
   "cell_type": "code",
   "execution_count": 11,
   "metadata": {},
   "outputs": [
    {
     "name": "stdout",
     "output_type": "stream",
     "text": [
      "History, Math, Physics, CompSci\n"
     ]
    }
   ],
   "source": [
    "item_str = ', '.join(List)\n",
    "print(item_str)"
   ]
  },
  {
   "cell_type": "code",
   "execution_count": 13,
   "metadata": {},
   "outputs": [
    {
     "name": "stdout",
     "output_type": "stream",
     "text": [
      "History - Math - Physics - CompSci\n"
     ]
    }
   ],
   "source": [
    "item_str = ' - '.join(List)\n",
    "print(item_str)"
   ]
  }
 ],
 "metadata": {
  "kernelspec": {
   "display_name": "Python 3",
   "language": "python",
   "name": "python3"
  },
  "language_info": {
   "codemirror_mode": {
    "name": "ipython",
    "version": 3
   },
   "file_extension": ".py",
   "mimetype": "text/x-python",
   "name": "python",
   "nbconvert_exporter": "python",
   "pygments_lexer": "ipython3",
   "version": "3.7.3"
  }
 },
 "nbformat": 4,
 "nbformat_minor": 2
}
