{
 "cells": [
  {
   "cell_type": "markdown",
   "metadata": {},
   "source": [
    "<h1 style=\"color:blue\" align=\"left\"> Machine Learning </h1>"
   ]
  },
  {
   "cell_type": "markdown",
   "metadata": {},
   "source": [
    "- Subset of AI techniques which **uses statistical methods** to enable machines to improve **with past experiance**.\n",
    "\n",
    "\n",
    "- Which **predicts the outcome based on the input variables**."
   ]
  },
  {
   "cell_type": "markdown",
   "metadata": {},
   "source": [
    "<h3 style=\"color:blue\" align=\"left\"> Types of ML Algorithms </h3>"
   ]
  },
  {
   "cell_type": "markdown",
   "metadata": {},
   "source": [
    "- Supervised Learning\n",
    "\n",
    "\n",
    "- UnSupervised Learning\n",
    "\n",
    "\n",
    "- Reinforcement Learning"
   ]
  },
  {
   "cell_type": "markdown",
   "metadata": {},
   "source": [
    "-------"
   ]
  },
  {
   "cell_type": "markdown",
   "metadata": {},
   "source": [
    "<h1 style=\"color:blue\" align=\"left\"> Supervised Learning </h1>"
   ]
  },
  {
   "cell_type": "markdown",
   "metadata": {},
   "source": [
    "- Supervised learning is the machine learning task of learning. **Learning under the supervision of teachers**.\n",
    "\n",
    "\n",
    "- Supervised learning is where we have the dataset and we build model to **predict dependant variable from the independant variables**"
   ]
  },
  {
   "cell_type": "markdown",
   "metadata": {},
   "source": [
    "### Types of Supervised Learning"
   ]
  },
  {
   "cell_type": "raw",
   "metadata": {},
   "source": [
    "a. Regression\n",
    "\n",
    "       \n",
    "     i) Linear Regression\n",
    "            \n",
    "    ii) Non Linear Regression \n",
    "       \n",
    "       \n",
    "\n",
    "b. Classification\n",
    "\n",
    "       \n",
    "     i) Linear Models\n",
    "     \n",
    "            \n",
    "           1. Logistic Regression\n",
    "                  \n",
    "           2. Support Vector Machine\n",
    "           \n",
    "            \n",
    "    ii) Non Linear Models \n",
    "           \n",
    "           \n",
    "           1. Desition Tree\n",
    "                  \n",
    "           2. Random Forest\n",
    "                  \n",
    "           3. Naive Bayes\n",
    "                  \n",
    "           4. KNN\n"
   ]
  },
  {
   "cell_type": "markdown",
   "metadata": {},
   "source": [
    "#### 1. Classification Algorithms\n",
    "\n",
    "\n",
    "-    When the labels of the data are **categorical** or when we want our machine learning model to **predict categorical value** we use classification algorithms.\n",
    "\n",
    "      **Ex of Categorical Labels** : \n",
    "      \n",
    "               dog, cat, 1, 2, 5, blue, happy, positive, apple etc.\n",
    "      \n",
    "               Email Spam detection\n",
    "               \n",
    "               Speech Recognition"
   ]
  },
  {
   "cell_type": "markdown",
   "metadata": {},
   "source": [
    "#### 2. Regression Algorithms\n",
    "\n",
    "\n",
    "- When the labels of the data are **numerical** or when we want our machine learning model to **predict numerical value** we use regression algorithms.\n",
    "\n",
    "\n",
    "  **Ex of Numerical Labels** :\n",
    "   \n",
    "     1.3, 2.33, 17.3, 1.0 etc. All fractions are Numerical values, they are also called as 'Continuous values'.\n",
    "     \n",
    "     Stock prices prediction\n",
    "     \n",
    "     Rainfall prediction"
   ]
  },
  {
   "cell_type": "markdown",
   "metadata": {},
   "source": [
    "<h1 style=\"color:blue\" align=\"left\"> UnSupervised Learning </h1>"
   ]
  },
  {
   "cell_type": "markdown",
   "metadata": {},
   "source": [
    "- UnSupervised Learning is a machine learning technique, where you **do not need to supervise the model**. Instead, you need to allow the **model to work on its own** to discover information. It mainly deals with the **unlabelled data**.\n",
    "\n",
    "\n",
    "- UnSupervised Learning is where we **have the dataset but the output is not labled**. The **model will find the correlation between the datapoints**."
   ]
  },
  {
   "cell_type": "raw",
   "metadata": {},
   "source": [
    "Unsupervised Learning\n",
    "\n",
    "       a. Clustering\n",
    "       \n",
    "       b. Association analysis\n",
    "       \n",
    "       c. Dimensionality reduction "
   ]
  },
  {
   "cell_type": "raw",
   "metadata": {},
   "source": [
    "#  Clustering:\n",
    "\n",
    "      Automatic grouping of similar objects into sets\n",
    "      \n",
    "      Application : Customer Segmentation\n",
    "      "
   ]
  },
  {
   "cell_type": "markdown",
   "metadata": {},
   "source": [
    "<h1 style=\"color:blue\" align=\"left\"> Reinforcement Learning </h1>"
   ]
  },
  {
   "cell_type": "markdown",
   "metadata": {},
   "source": [
    "- Learning data provides feedback so that the system adapts to dynamic conditions in order to achieve a certain goal in the end. The system evaluates its performance based on the feedback responses and reacts accordingly.\n",
    "\n",
    "\n",
    "- Ex: self driving cars and the chess master "
   ]
  },
  {
   "cell_type": "raw",
   "metadata": {},
   "source": [
    "Reinforcement Learning\n",
    "\n",
    "   - Model Free\n",
    "   \n",
    "        - Q Learning\n",
    "        \n",
    "        - Hybrid\n",
    "        \n",
    "        - Policy optimization\n",
    "   \n",
    "   \n",
    "   - Model Based\n",
    "   \n",
    "        - Learn the model\n",
    "        \n",
    "        - Given the model"
   ]
  },
  {
   "cell_type": "markdown",
   "metadata": {},
   "source": [
    "<h1 style=\"color:blue\" align=\"left\"> Regression Vs Classification </h1>"
   ]
  },
  {
   "cell_type": "markdown",
   "metadata": {},
   "source": [
    "<img src=\"1.JPG\" height=320 width=320 align=\"left\" />\n",
    "<img src=\"2.JPG\" height=350 width=350 align=\"left\" />\n",
    "<img src=\"3.JPG\" height=300 width=300 align=\"right\" />"
   ]
  },
  {
   "cell_type": "markdown",
   "metadata": {},
   "source": [
    "------"
   ]
  },
  {
   "cell_type": "markdown",
   "metadata": {},
   "source": [
    "<h1 style=\"color:blue\" align=\"left\"> Steps of ML </h1>"
   ]
  },
  {
   "cell_type": "markdown",
   "metadata": {},
   "source": [
    "- Problem Understanding\n",
    "\n",
    "\n",
    "- Gathering data\n",
    "\n",
    "\n",
    "- Data pre-processing\n",
    "\n",
    "\n",
    "- Model Selection\n",
    "\n",
    "\n",
    "- Training and testing the data\n",
    "\n",
    "\n",
    "- Evaluation\n",
    "\n",
    "\n",
    "- Parameter tuning\n",
    "\n",
    "\n",
    "- Prediction"
   ]
  }
 ],
 "metadata": {
  "kernelspec": {
   "display_name": "Python 3",
   "language": "python",
   "name": "python3"
  },
  "language_info": {
   "codemirror_mode": {
    "name": "ipython",
    "version": 3
   },
   "file_extension": ".py",
   "mimetype": "text/x-python",
   "name": "python",
   "nbconvert_exporter": "python",
   "pygments_lexer": "ipython3",
   "version": "3.7.3"
  }
 },
 "nbformat": 4,
 "nbformat_minor": 2
}
